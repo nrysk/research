{
 "cells": [
  {
   "cell_type": "markdown",
   "metadata": {},
   "source": [
    "# Plot"
   ]
  },
  {
   "cell_type": "markdown",
   "metadata": {},
   "source": [
    "### 不具合混入コミットの割合を箱ひげ図にプロットする"
   ]
  },
  {
   "cell_type": "code",
   "execution_count": null,
   "metadata": {},
   "outputs": [
    {
     "name": "stdout",
     "output_type": "stream",
     "text": [
      "\\begin{tabular}{lrrrrrrrr}\n",
      "\\toprule\n",
      " & count & mean & std & min & 25% & 50% & 75% & max \\\\\n",
      "\\midrule\n",
      "0 & 76 & 0.135 & 0.143 & 0.000 & 0.045 & 0.120 & 0.168 & 1.000 \\\\\n",
      "0 & 92 & 0.167 & 0.098 & 0.013 & 0.085 & 0.160 & 0.219 & 0.389 \\\\\n",
      "\\bottomrule\n",
      "\\end{tabular}\n",
      "\n"
     ]
    },
    {
     "data": {
      "image/png": "[encoded data removed]",
      "text/plain": [
       "<Figure size 800x500 with 1 Axes>"
      ]
     },
     "metadata": {},
     "output_type": "display_data"
    }
   ],
   "source": [
    "import matplotlib.pyplot as plt\n",
    "import pandas as pd\n",
    "\n",
    "\n",
    "def get_stats(series: pd.Series) -> pd.DataFrame:\n",
    "    return pd.DataFrame(\n",
    "        [\n",
    "            {\n",
    "                \"count\": series.count(),\n",
    "                \"mean\": series.mean(),\n",
    "                \"std\": series.std(),\n",
    "                \"min\": series.min(),\n",
    "                \"25%\": series.quantile(0.25),\n",
    "                \"50%\": series.quantile(0.5),\n",
    "                \"75%\": series.quantile(0.75),\n",
    "                \"max\": series.max(),\n",
    "            }\n",
    "        ]\n",
    "    )\n",
    "\n",
    "\n",
    "# データの読み込み\n",
    "df = pd.read_csv(\"data/pull_request_effect.csv\")\n",
    "\n",
    "df[\"#cmt+pr\"] = df[\"#cmt+pr+bi\"] + df[\"#cmt+pr-bi\"]\n",
    "df[\"#cmt-pr\"] = df[\"#cmt-pr+bi\"] + df[\"#cmt-pr-bi\"]\n",
    "\n",
    "# ================================================\n",
    "# プルリクエスト有りのバグコミット割合を算出\n",
    "# ================================================\n",
    "\n",
    "# プルリクエストを使用していないプロジェクトを除外\n",
    "filtered_df = df[df[\"#cmt+pr\"] > 0]\n",
    "bug_rate_in_pr = filtered_df[\"#cmt+pr+bi\"] / filtered_df[\"#cmt+pr\"]\n",
    "# プルリクエスト有りの統計量を算出\n",
    "result_df = get_stats(bug_rate_in_pr)\n",
    "\n",
    "# ================================================\n",
    "# プルリクエスト無しのバグコミット割合を算出\n",
    "# ================================================\n",
    "filtered_df = df[df[\"#cmt-pr\"] > 0]\n",
    "bug_rate_not_in_pr = filtered_df[\"#cmt-pr+bi\"] / filtered_df[\"#cmt-pr\"]\n",
    "# プルリクエスト無しの統計量を算出\n",
    "result_df = pd.concat([result_df, get_stats(bug_rate_not_in_pr)], axis=0)\n",
    "\n",
    "print(result_df.to_latex(float_format=\"%.3f\"))\n",
    "\n",
    "# ================================================\n",
    "# プロジェクトごとのバグ割合を箱ひげ図で表示\n",
    "# ================================================\n",
    "plt.rc(\"font\", family=\"Noto Sans CJK JP\")\n",
    "plt.figure(figsize=(8, 6))\n",
    "plt.boxplot(\n",
    "    [bug_rate_in_pr, bug_rate_not_in_pr],\n",
    "    tick_labels=[\"PR に含まれている\", \"PR に含まれていない\"],\n",
    ")\n",
    "plt.ylabel(\"不具合混入コミット率\")\n",
    "plt.grid()\n",
    "plt.show()"
   ]
  }
 ],
 "metadata": {
  "kernelspec": {
   "display_name": "Python 3",
   "language": "python",
   "name": "python3"
  },
  "language_info": {
   "codemirror_mode": {
    "name": "ipython",
    "version": 3
   },
   "file_extension": ".py",
   "mimetype": "text/x-python",
   "name": "python",
   "nbconvert_exporter": "python",
   "pygments_lexer": "ipython3",
   "version": "3.12.8"
  }
 },
 "nbformat": 4,
 "nbformat_minor": 2
}
