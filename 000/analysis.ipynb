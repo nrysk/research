{
 "cells": [
  {
   "cell_type": "markdown",
   "metadata": {},
   "source": [
    "# Pull Request Effect\n",
    "\n",
    "バグ混入にプルリクエストが影響するかを調査する．"
   ]
  },
  {
   "cell_type": "markdown",
   "metadata": {},
   "source": [
    "### PR と bug の検定"
   ]
  },
  {
   "cell_type": "code",
   "execution_count": 11,
   "metadata": {},
   "outputs": [
    {
     "name": "stdout",
     "output_type": "stream",
     "text": [
      "--- chi2 test ---\n"
     ]
    },
    {
     "data": {
      "text/html": [
       "<div>\n",
       "<style scoped>\n",
       "    .dataframe tbody tr th:only-of-type {\n",
       "        vertical-align: middle;\n",
       "    }\n",
       "\n",
       "    .dataframe tbody tr th {\n",
       "        vertical-align: top;\n",
       "    }\n",
       "\n",
       "    .dataframe thead th {\n",
       "        text-align: right;\n",
       "    }\n",
       "</style>\n",
       "<table border=\"1\" class=\"dataframe\">\n",
       "  <thead>\n",
       "    <tr style=\"text-align: right;\">\n",
       "      <th></th>\n",
       "      <th>buggy</th>\n",
       "      <th>clean</th>\n",
       "    </tr>\n",
       "  </thead>\n",
       "  <tbody>\n",
       "    <tr>\n",
       "      <th>not_in_pr</th>\n",
       "      <td>40596</td>\n",
       "      <td>214532</td>\n",
       "    </tr>\n",
       "    <tr>\n",
       "      <th>in_pr</th>\n",
       "      <td>4819</td>\n",
       "      <td>32454</td>\n",
       "    </tr>\n",
       "  </tbody>\n",
       "</table>\n",
       "</div>"
      ],
      "text/plain": [
       "           buggy   clean\n",
       "not_in_pr  40596  214532\n",
       "in_pr       4819   32454"
      ]
     },
     "metadata": {},
     "output_type": "display_data"
    },
    {
     "name": "stdout",
     "output_type": "stream",
     "text": [
      "\\begin{tabular}{lrr}\n",
      "\\toprule\n",
      " & buggy & clean \\\\\n",
      "\\midrule\n",
      "not\\_in\\_pr & 40596 & 214532 \\\\\n",
      "in\\_pr & 4819 & 32454 \\\\\n",
      "\\bottomrule\n",
      "\\end{tabular}\n",
      "\n",
      "buggy ratio:\n",
      "not_in_pr    (15.91%)\n",
      "in_pr        (12.93%)\n",
      "dtype: object\n",
      "--- result ---\n",
      "chi2: 220.36497862519337\n",
      "p-value: 7.529614466941755e-50\n",
      "degree of freedom: 1\n",
      "Cramer's V: 0.02745249752451855\n",
      "Odds Ratio: 1.2743903312169087\n",
      "expected:\n",
      "[[ 39625.84984319 215502.15015681]\n",
      " [  5789.15015681  31483.84984319]]\n"
     ]
    }
   ],
   "source": [
    "import math\n",
    "\n",
    "import pandas as pd\n",
    "from scipy.stats import chi2_contingency\n",
    "\n",
    "# データの読み込み\n",
    "df = pd.read_csv(\"data/pull_request_effect.csv\")\n",
    "\n",
    "# テーブルの作成\n",
    "table = pd.DataFrame(\n",
    "    {\n",
    "        \"buggy\": [\n",
    "            df[\"#cmt-pr+bi\"].sum(),\n",
    "            df[\"#cmt+pr+bi\"].sum(),\n",
    "        ],\n",
    "        \"clean\": [\n",
    "            df[\"#cmt-pr-bi\"].sum(),\n",
    "            df[\"#cmt+pr-bi\"].sum(),\n",
    "        ],\n",
    "    },\n",
    "    index=[\"not_in_pr\", \"in_pr\"],\n",
    ")\n",
    "\n",
    "# カイ二乗検定\n",
    "chi2, p, dof, expected = chi2_contingency(table)\n",
    "cramer_v = math.sqrt(chi2 / (table.sum().sum()))\n",
    "a, b, c, d = table.values.flatten()\n",
    "odds_ratio = (a * d) / (b * c)\n",
    "\n",
    "buggy_ratio = (table[\"buggy\"] / (table[\"buggy\"] + table[\"clean\"]) * 100).apply(\n",
    "    lambda x: f\"({x:.2f}%)\"\n",
    ")\n",
    "\n",
    "\n",
    "# 結果の表示\n",
    "print(\"--- chi2 test ---\")\n",
    "display(table)\n",
    "print(table.to_latex(escape=True))\n",
    "print(\"buggy ratio:\")\n",
    "print(buggy_ratio)\n",
    "print(\"--- result ---\")\n",
    "print(f\"chi2: {chi2}\")\n",
    "print(f\"p-value: {p}\")\n",
    "print(f\"degree of freedom: {dof}\")\n",
    "print(f\"Cramer's V: {cramer_v}\")\n",
    "print(f\"Odds Ratio: {odds_ratio}\")\n",
    "print(\"expected:\")\n",
    "print(expected)"
   ]
  },
  {
   "cell_type": "markdown",
   "metadata": {},
   "source": [
    "## 既存研究の検証\n",
    "レビューと不具合混入の関係"
   ]
  },
  {
   "cell_type": "code",
   "execution_count": null,
   "metadata": {},
   "outputs": [
    {
     "name": "stdout",
     "output_type": "stream",
     "text": [
      "--- chi2 test ---\n"
     ]
    },
    {
     "data": {
      "text/html": [
       "<div>\n",
       "<style scoped>\n",
       "    .dataframe tbody tr th:only-of-type {\n",
       "        vertical-align: middle;\n",
       "    }\n",
       "\n",
       "    .dataframe tbody tr th {\n",
       "        vertical-align: top;\n",
       "    }\n",
       "\n",
       "    .dataframe thead th {\n",
       "        text-align: right;\n",
       "    }\n",
       "</style>\n",
       "<table border=\"1\" class=\"dataframe\">\n",
       "  <thead>\n",
       "    <tr style=\"text-align: right;\">\n",
       "      <th></th>\n",
       "      <th>buggy</th>\n",
       "      <th>clean</th>\n",
       "    </tr>\n",
       "  </thead>\n",
       "  <tbody>\n",
       "    <tr>\n",
       "      <th>not_reviewed</th>\n",
       "      <td>8322</td>\n",
       "      <td>23439</td>\n",
       "    </tr>\n",
       "    <tr>\n",
       "      <th>reviewed</th>\n",
       "      <td>81</td>\n",
       "      <td>1521</td>\n",
       "    </tr>\n",
       "  </tbody>\n",
       "</table>\n",
       "</div>"
      ],
      "text/plain": [
       "              buggy  clean\n",
       "not_reviewed   8322  23439\n",
       "reviewed         81   1521"
      ]
     },
     "metadata": {},
     "output_type": "display_data"
    },
    {
     "name": "stdout",
     "output_type": "stream",
     "text": [
      "buggy ratio:\n",
      "not_reviewed    (26.20%)\n",
      "reviewed         (5.06%)\n",
      "dtype: object\n",
      "--- result ---\n",
      "chi2: 360.779568221373\n",
      "p-value: 1.904740104435273e-80\n",
      "degree of freedom: 1\n",
      "Cramer's V: 0.10398924366371357\n",
      "Odds Ratio: 6.667036420780181\n",
      "--- chi2 test ---\n"
     ]
    },
    {
     "data": {
      "text/html": [
       "<div>\n",
       "<style scoped>\n",
       "    .dataframe tbody tr th:only-of-type {\n",
       "        vertical-align: middle;\n",
       "    }\n",
       "\n",
       "    .dataframe tbody tr th {\n",
       "        vertical-align: top;\n",
       "    }\n",
       "\n",
       "    .dataframe thead th {\n",
       "        text-align: right;\n",
       "    }\n",
       "</style>\n",
       "<table border=\"1\" class=\"dataframe\">\n",
       "  <thead>\n",
       "    <tr style=\"text-align: right;\">\n",
       "      <th></th>\n",
       "      <th>buggy</th>\n",
       "      <th>clean</th>\n",
       "    </tr>\n",
       "  </thead>\n",
       "  <tbody>\n",
       "    <tr>\n",
       "      <th>not_reviewed</th>\n",
       "      <td>2547</td>\n",
       "      <td>43216</td>\n",
       "    </tr>\n",
       "    <tr>\n",
       "      <th>reviewed</th>\n",
       "      <td>147</td>\n",
       "      <td>5190</td>\n",
       "    </tr>\n",
       "  </tbody>\n",
       "</table>\n",
       "</div>"
      ],
      "text/plain": [
       "              buggy  clean\n",
       "not_reviewed   2547  43216\n",
       "reviewed        147   5190"
      ]
     },
     "metadata": {},
     "output_type": "display_data"
    },
    {
     "name": "stdout",
     "output_type": "stream",
     "text": [
      "buggy ratio:\n",
      "not_reviewed    (5.57%)\n",
      "reviewed        (2.75%)\n",
      "dtype: object\n",
      "--- result ---\n",
      "chi2: 75.07656084113596\n",
      "p-value: 4.52810185377297e-18\n",
      "degree of freedom: 1\n",
      "Cramer's V: 0.03833025733057503\n",
      "Odds Ratio: 2.0808194621795404\n",
      "--- chi2 test ---\n"
     ]
    },
    {
     "data": {
      "text/html": [
       "<div>\n",
       "<style scoped>\n",
       "    .dataframe tbody tr th:only-of-type {\n",
       "        vertical-align: middle;\n",
       "    }\n",
       "\n",
       "    .dataframe tbody tr th {\n",
       "        vertical-align: top;\n",
       "    }\n",
       "\n",
       "    .dataframe thead th {\n",
       "        text-align: right;\n",
       "    }\n",
       "</style>\n",
       "<table border=\"1\" class=\"dataframe\">\n",
       "  <thead>\n",
       "    <tr style=\"text-align: right;\">\n",
       "      <th></th>\n",
       "      <th>buggy</th>\n",
       "      <th>clean</th>\n",
       "    </tr>\n",
       "  </thead>\n",
       "  <tbody>\n",
       "    <tr>\n",
       "      <th>not_reviewed</th>\n",
       "      <td>15</td>\n",
       "      <td>119</td>\n",
       "    </tr>\n",
       "    <tr>\n",
       "      <th>reviewed</th>\n",
       "      <td>129</td>\n",
       "      <td>2370</td>\n",
       "    </tr>\n",
       "  </tbody>\n",
       "</table>\n",
       "</div>"
      ],
      "text/plain": [
       "              buggy  clean\n",
       "not_reviewed     15    119\n",
       "reviewed        129   2370"
      ]
     },
     "metadata": {},
     "output_type": "display_data"
    },
    {
     "name": "stdout",
     "output_type": "stream",
     "text": [
      "buggy ratio:\n",
      "not_reviewed    (11.19%)\n",
      "reviewed         (5.16%)\n",
      "dtype: object\n",
      "--- result ---\n",
      "chi2: 7.82188457010165\n",
      "p-value: 0.005161734448216758\n",
      "degree of freedom: 1\n",
      "Cramer's V: 0.054504237928664295\n",
      "Odds Ratio: 2.3158100449482117\n"
     ]
    }
   ],
   "source": [
    "import math\n",
    "\n",
    "import pandas as pd\n",
    "from scipy.stats import chi2_contingency\n",
    "\n",
    "tables = [\n",
    "    # AOSP\n",
    "    pd.DataFrame(\n",
    "        {\n",
    "            \"buggy\": [8322, 81],\n",
    "            \"clean\": [23439, 1521],\n",
    "        },\n",
    "        index=[\"not_reviewed\", \"reviewed\"],\n",
    "    ),\n",
    "    # LibreOffice\n",
    "    pd.DataFrame(\n",
    "        {\n",
    "            \"buggy\": [2547, 147],\n",
    "            \"clean\": [43216, 5190],\n",
    "        },\n",
    "        index=[\"not_reviewed\", \"reviewed\"],\n",
    "    ),\n",
    "    # Scilab\n",
    "    pd.DataFrame(\n",
    "        {\n",
    "            \"buggy\": [15, 129],\n",
    "            \"clean\": [119, 2370],\n",
    "        },\n",
    "        index=[\"not_reviewed\", \"reviewed\"],\n",
    "    ),\n",
    "]\n",
    "\n",
    "for table in tables:\n",
    "    # カイ二乗検定\n",
    "    chi2, p, dof, expected = chi2_contingency(table)\n",
    "    cramer_v = math.sqrt((chi2 / (table.sum().sum())))\n",
    "    a, b, c, d = table.values.flatten()\n",
    "    odds_ratio = (a * d) / (b * c)\n",
    "\n",
    "    print(\"--- chi2 test ---\")\n",
    "    display(table)\n",
    "    print(\"buggy ratio:\")\n",
    "    print(\n",
    "        (table[\"buggy\"] / (table[\"buggy\"] + table[\"clean\"]) * 100).apply(\n",
    "            lambda x: f\"({x:.2f}%)\"\n",
    "        )\n",
    "    )\n",
    "    print(\"--- result ---\")\n",
    "    print(f\"chi2: {chi2}\")\n",
    "    print(f\"p-value: {p}\")\n",
    "    print(f\"degree of freedom: {dof}\")\n",
    "    print(f\"Cramer's V: {cramer_v}\")\n",
    "    print(f\"Odds Ratio: {odds_ratio}\")"
   ]
  },
  {
   "cell_type": "code",
   "execution_count": null,
   "metadata": {},
   "outputs": [],
   "source": []
  }
 ],
 "metadata": {
  "kernelspec": {
   "display_name": "Python 3",
   "language": "python",
   "name": "python3"
  },
  "language_info": {
   "codemirror_mode": {
    "name": "ipython",
    "version": 3
   },
   "file_extension": ".py",
   "mimetype": "text/x-python",
   "name": "python",
   "nbconvert_exporter": "python",
   "pygments_lexer": "ipython3",
   "version": "3.12.10"
  }
 },
 "nbformat": 4,
 "nbformat_minor": 2
}
