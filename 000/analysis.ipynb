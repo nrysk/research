{
 "cells": [
  {
   "cell_type": "markdown",
   "metadata": {},
   "source": [
    "# Pull Request Effect\n",
    "\n",
    "バグ混入にプルリクエストが影響するかを調査する．"
   ]
  },
  {
   "cell_type": "markdown",
   "metadata": {},
   "source": [
    "### PR と bug の検定"
   ]
  },
  {
   "cell_type": "code",
   "execution_count": null,
   "metadata": {},
   "outputs": [
    {
     "name": "stdout",
     "output_type": "stream",
     "text": [
      "--- chi2 test ---\n",
      "\\begin{tabular}{lrlrl}\n",
      "\\toprule\n",
      " & buggy & buggy\\_ratio & clean & clean\\_ratio \\\\\n",
      "\\midrule\n",
      "in\\_pr & 4819 & (12.93\\%) & 32454 & (87.07\\%) \\\\\n",
      "not\\_in\\_pr & 40596 & (15.91\\%) & 214532 & (84.09\\%) \\\\\n",
      "\\bottomrule\n",
      "\\end{tabular}\n",
      "\n",
      "chi2: 220.3649786251934\n",
      "p-value: 7.529614466941645e-50\n",
      "degree of freedom: 1\n",
      "Cramer's V: 0.027452497524518553\n",
      "expected:\n",
      "[[  5789.15015681  31483.84984319]\n",
      " [ 39625.84984319 215502.15015681]]\n"
     ]
    }
   ],
   "source": [
    "import math\n",
    "\n",
    "import pandas as pd\n",
    "from scipy.stats import chi2_contingency\n",
    "\n",
    "# データの読み込み\n",
    "df = pd.read_csv(\"data/pull_request_effect.csv\")\n",
    "\n",
    "# テーブルの作成\n",
    "table = pd.DataFrame(\n",
    "    {\n",
    "        \"buggy\": [\n",
    "            df[\"#cmt+pr+bi\"].sum(),\n",
    "            df[\"#cmt-pr+bi\"].sum(),\n",
    "        ],\n",
    "        \"clean\": [\n",
    "            df[\"#cmt+pr-bi\"].sum(),\n",
    "            df[\"#cmt-pr-bi\"].sum(),\n",
    "        ],\n",
    "    },\n",
    "    index=[\"in_pr\", \"not_in_pr\"],\n",
    ")\n",
    "\n",
    "# カイ二乗検定\n",
    "chi2, p, dof, expected = chi2_contingency(table)\n",
    "cramer_v = math.sqrt(chi2 / (table.sum().sum()))\n",
    "\n",
    "# # 表に割合列を追加\n",
    "# table[\"buggy_ratio\"] = (table[\"buggy\"] / (table[\"buggy\"] + table[\"clean\"]) * 100).apply(\n",
    "#     lambda x: f\"({x:.2f}%)\"\n",
    "# )\n",
    "# table[\"clean_ratio\"] = (table[\"clean\"] / (table[\"buggy\"] + table[\"clean\"]) * 100).apply(\n",
    "#     lambda x: f\"({x:.2f}%)\"\n",
    "# )\n",
    "# table = table[[\"buggy\", \"buggy_ratio\", \"clean\", \"clean_ratio\"]]\n",
    "\n",
    "# 結果の表示\n",
    "print(\"--- chi2 test ---\")\n",
    "print(table.to_latex(escape=True))\n",
    "print(f\"chi2: {chi2}\")\n",
    "print(f\"p-value: {p}\")\n",
    "print(f\"degree of freedom: {dof}\")\n",
    "print(f\"Cramer's V: {cramer_v}\")\n",
    "print(\"expected:\")\n",
    "print(expected)"
   ]
  }
 ],
 "metadata": {
  "kernelspec": {
   "display_name": "Python 3",
   "language": "python",
   "name": "python3"
  },
  "language_info": {
   "codemirror_mode": {
    "name": "ipython",
    "version": 3
   },
   "file_extension": ".py",
   "mimetype": "text/x-python",
   "name": "python",
   "nbconvert_exporter": "python",
   "pygments_lexer": "ipython3",
   "version": "3.12.8"
  }
 },
 "nbformat": 4,
 "nbformat_minor": 2
}
